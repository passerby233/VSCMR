{
 "cells": [
  {
   "cell_type": "markdown",
   "metadata": {},
   "source": [
    "# Watch generated semantic file"
   ]
  },
  {
   "cell_type": "code",
   "execution_count": 3,
   "metadata": {
    "ExecuteTime": {
     "end_time": "2019-04-12T13:11:41.830677Z",
     "start_time": "2019-04-12T13:11:41.792075Z"
    },
    "scrolled": false
   },
   "outputs": [
    {
     "ename": "AttributeError",
     "evalue": "'module' object has no attribute 'data_path'",
     "output_type": "error",
     "traceback": [
      "\u001b[0;31m---------------------------------------------------------------------------\u001b[0m",
      "\u001b[0;31mAttributeError\u001b[0m                            Traceback (most recent call last)",
      "\u001b[0;32m<ipython-input-3-2eee02e8675a>\u001b[0m in \u001b[0;36m<module>\u001b[0;34m()\u001b[0m\n\u001b[1;32m     10\u001b[0m \u001b[0;32mfrom\u001b[0m \u001b[0mrule_mining\u001b[0m \u001b[0;32mimport\u001b[0m \u001b[0mconfig\u001b[0m \u001b[0;32mas\u001b[0m \u001b[0mcfg\u001b[0m\u001b[0;34m\u001b[0m\u001b[0m\n\u001b[1;32m     11\u001b[0m \u001b[0;34m\u001b[0m\u001b[0m\n\u001b[0;32m---> 12\u001b[0;31m \u001b[0mid2semanlst_file\u001b[0m \u001b[0;34m=\u001b[0m \u001b[0mos\u001b[0m\u001b[0;34m.\u001b[0m\u001b[0mpath\u001b[0m\u001b[0;34m.\u001b[0m\u001b[0mjoin\u001b[0m\u001b[0;34m(\u001b[0m\u001b[0mcfg\u001b[0m\u001b[0;34m.\u001b[0m\u001b[0mdata_path\u001b[0m\u001b[0;34m,\u001b[0m \u001b[0;34m\"semantic_list.json\"\u001b[0m\u001b[0;34m)\u001b[0m\u001b[0;34m\u001b[0m\u001b[0m\n\u001b[0m\u001b[1;32m     13\u001b[0m \u001b[0mid2semanset_file\u001b[0m \u001b[0;34m=\u001b[0m \u001b[0mos\u001b[0m\u001b[0;34m.\u001b[0m\u001b[0mpath\u001b[0m\u001b[0;34m.\u001b[0m\u001b[0mjoin\u001b[0m\u001b[0;34m(\u001b[0m\u001b[0mcfg\u001b[0m\u001b[0;34m.\u001b[0m\u001b[0mdata_path\u001b[0m\u001b[0;34m,\u001b[0m \u001b[0;34m\"semantic_set.json\"\u001b[0m\u001b[0;34m)\u001b[0m\u001b[0;34m\u001b[0m\u001b[0m\n\u001b[1;32m     14\u001b[0m \u001b[0;34m\u001b[0m\u001b[0m\n",
      "\u001b[0;31mAttributeError\u001b[0m: 'module' object has no attribute 'data_path'"
     ]
    }
   ],
   "source": [
    "from matplotlib import pyplot as plt\n",
    "from PIL import Image\n",
    "import numpy as np\n",
    "import utils as ut\n",
    "import os\n",
    "import sys\n",
    "\n",
    "sys.path.append('../')\n",
    "from rule_mining import utils as ut\n",
    "from rule_mining import config as cfg\n",
    "\n",
    "id2semanlst_file = os.path.join(cfg.proj, \"semantic_list.json\")\n",
    "id2semanset_file = os.path.join(cfg.data_path, \"semantic_set.json\")\n",
    "\n",
    "# Load files\n",
    "id2words = ut.load_json(cfg.txtdata_file)['id2words']\n",
    "total_story_line = ut.load_json(cfg.story_line_file)"
   ]
  },
  {
   "cell_type": "code",
   "execution_count": 2,
   "metadata": {
    "ExecuteTime": {
     "end_time": "2019-04-12T13:11:28.132071Z",
     "start_time": "2019-04-12T13:11:28.046832Z"
    },
    "scrolled": false
   },
   "outputs": [
    {
     "ename": "NameError",
     "evalue": "name 'id2words' is not defined",
     "output_type": "error",
     "traceback": [
      "\u001b[0;31m---------------------------------------------------------------------------\u001b[0m",
      "\u001b[0;31mNameError\u001b[0m                                 Traceback (most recent call last)",
      "\u001b[0;32m<ipython-input-2-e97ce534fda0>\u001b[0m in \u001b[0;36m<module>\u001b[0;34m()\u001b[0m\n\u001b[1;32m     53\u001b[0m             \u001b[0;31m#print([id2words[str(idx-2048)].encode('utf-8')for idx in id2semanset[story_id]])\u001b[0m\u001b[0;34m\u001b[0m\u001b[0;34m\u001b[0m\u001b[0m\n\u001b[1;32m     54\u001b[0m \u001b[0;34m\u001b[0m\u001b[0m\n\u001b[0;32m---> 55\u001b[0;31m \u001b[0mtest_semantic_result\u001b[0m\u001b[0;34m(\u001b[0m\u001b[0mid2words\u001b[0m\u001b[0;34m,\u001b[0m \u001b[0mtotal_story_line\u001b[0m\u001b[0;34m,\u001b[0m \u001b[0mid2semanlst_file\u001b[0m\u001b[0;34m,\u001b[0m \u001b[0mid2semanset_file\u001b[0m\u001b[0;34m)\u001b[0m\u001b[0;34m\u001b[0m\u001b[0m\n\u001b[0m",
      "\u001b[0;31mNameError\u001b[0m: name 'id2words' is not defined"
     ]
    }
   ],
   "source": [
    "def test_semantic_result(id2words, total_story_line, id2semanlst_file, id2semanset_file):\n",
    "    mode = 'train'\n",
    "    story_line = total_story_line[mode]\n",
    "    trans_info_file = os.path.join(data_path, \"rule_data/{}_trans_info.npz\".format(mode))\n",
    "    id2trans = ut.load_npz_dict(trans_info_file)['id2trans']\n",
    "    id2semanlst = ut.load_json(id2semanlst_file)[mode]\n",
    "    id2semanset = ut.load_json(id2semanset_file)[mode]\n",
    "\n",
    "    #for story_id, story_seman in id2semanlst.items()[1000:1200]:\n",
    "    for story_id, story_seman in [('5248', id2semanlst['5248'])]:\n",
    "        '''\n",
    "        origin_words = [[id2words[str(idx-2048)].encode('utf-8') \n",
    "                         for idx in id2trans[img_id][10:]]\n",
    "                        for img_id in story_line[story_id]['flickr_id']]\n",
    "        detected_words = [[id2words[str(idx-2048)].encode('utf-8')\n",
    "                          for idx in img_seman]\n",
    "                          for img_seman in story_seman]\n",
    "        '''\n",
    "        origin_words = set()\n",
    "        for img_id in story_line[story_id]['flickr_id']:\n",
    "            origin_words.update([id2words[str(idx-2048)].encode('utf-8') \n",
    "                                 for idx in id2trans[img_id][10:]])\n",
    "        detected_words = set()\n",
    "        for img_seman in story_seman:\n",
    "            detected_words.update([id2words[str(idx-2048)].encode('utf-8')\n",
    "                                  for idx in img_seman])\n",
    "            \n",
    "        if len(detected_words) > 0:\n",
    "            plt.figure(figsize=(25, 150))\n",
    "            for j, img_id in enumerate(story_line[story_id]['flickr_id']):\n",
    "                img_file = os.path.join(\"/home/lijiacheng/vist/images/\",mode,\"{}.jpg\".format(img_id))\n",
    "                try:\n",
    "                    img = Image.open(img_file)\n",
    "                except:\n",
    "                    print(\"image %s not found\" % img_id)\n",
    "                    continue\n",
    "                plt.subplot(1, 5, 1+j)\n",
    "                plt.imshow(img) \n",
    "                plt.axis('off')\n",
    "            plt.show()\n",
    "\n",
    "            print('story_id:', story_id)\n",
    "            #print(story_line[story_id]['origin_text'])\n",
    "            print('origin:')\n",
    "            print(origin_words)\n",
    "            print('-' * 110)\n",
    "            print('intersection')\n",
    "            inter = detected_words & origin_words\n",
    "            print(inter, len(inter))\n",
    "            print('remainder')\n",
    "            diff = detected_words - inter\n",
    "            print(diff, len(diff))\n",
    "            #print([id2words[str(idx-2048)].encode('utf-8')for idx in id2semanset[story_id]])\n",
    "\n",
    "test_semantic_result(id2words, total_story_line, id2semanlst_file, id2semanset_file)"
   ]
  },
  {
   "cell_type": "code",
   "execution_count": null,
   "metadata": {},
   "outputs": [],
   "source": []
  }
 ],
 "metadata": {
  "kernelspec": {
   "display_name": "Python 2",
   "language": "python",
   "name": "python2"
  },
  "language_info": {
   "codemirror_mode": {
    "name": "ipython",
    "version": 2
   },
   "file_extension": ".py",
   "mimetype": "text/x-python",
   "name": "python",
   "nbconvert_exporter": "python",
   "pygments_lexer": "ipython2",
   "version": "2.7.15"
  }
 },
 "nbformat": 4,
 "nbformat_minor": 1
}
