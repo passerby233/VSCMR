{
 "cells": [
  {
   "cell_type": "markdown",
   "metadata": {},
   "source": [
    "# Watch generated semantic file"
   ]
  },
  {
   "cell_type": "code",
   "execution_count": 4,
   "metadata": {
    "ExecuteTime": {
     "end_time": "2019-04-12T13:12:44.236226Z",
     "start_time": "2019-04-12T13:12:42.448009Z"
    },
    "scrolled": false
   },
   "outputs": [],
   "source": [
    "from matplotlib import pyplot as plt\n",
    "from PIL import Image\n",
    "import numpy as np\n",
    "import utils as ut\n",
    "import os\n",
    "import sys\n",
    "\n",
    "sys.path.append('../')\n",
    "from rule_mining import utils as ut\n",
    "from rule_mining import config as cfg\n",
    "\n",
    "id2semanlst_file = os.path.join(cfg.proj_dir, \"VIST/semantic_list.json\")\n",
    "id2semanset_file = os.path.join(cfg.proj_dir, \"VIST/semantic_set.json\")\n",
    "\n",
    "# Load files\n",
    "id2words = ut.load_json(cfg.txtdata_file)['id2words']\n",
    "total_story_line = ut.load_json(cfg.story_line_file)"
   ]
  },
  {
   "cell_type": "code",
   "execution_count": null,
   "metadata": {
    "ExecuteTime": {
     "start_time": "2019-04-12T13:14:19.633Z"
    },
    "scrolled": false
   },
   "outputs": [],
   "source": [
    "def test_semantic_result(id2words, total_story_line, id2semanlst_file, id2semanset_file):\n",
    "    mode = 'train'\n",
    "    story_line = total_story_line[mode]\n",
    "    trans_info_file = os.path.join(cfg.rule_data_path, \"{}_trans_info.npz\".format(mode))\n",
    "    id2trans = ut.load_npz_dict(trans_info_file)['id2trans']\n",
    "    id2semanlst = ut.load_json(id2semanlst_file)[mode]\n",
    "    id2semanset = ut.load_json(id2semanset_file)[mode]\n",
    "\n",
    "    for story_id, story_seman in id2semanlst.items()[1000:1100]:\n",
    "    #The following line is altertive for watch single story\n",
    "    #for story_id, story_seman in [('5248', id2semanlst['5248'])]:\n",
    "        '''\n",
    "        origin_words = [[id2words[str(idx-2048)].encode('utf-8') \n",
    "                         for idx in id2trans[img_id][10:]]\n",
    "                        for img_id in story_line[story_id]['flickr_id']]\n",
    "        detected_words = [[id2words[str(idx-2048)].encode('utf-8')\n",
    "                          for idx in img_seman]\n",
    "                          for img_seman in story_seman]\n",
    "        '''\n",
    "        origin_words = set()\n",
    "        for img_id in story_line[story_id]['flickr_id']:\n",
    "            origin_words.update([id2words[str(idx-2048)].encode('utf-8') \n",
    "                                 for idx in id2trans[img_id][10:]])\n",
    "        detected_words = set()\n",
    "        for img_seman in story_seman:\n",
    "            detected_words.update([id2words[str(idx-2048)].encode('utf-8')\n",
    "                                  for idx in img_seman])\n",
    "            \n",
    "        if len(detected_words) > 0:\n",
    "            plt.figure(figsize=(25, 150))\n",
    "            for j, img_id in enumerate(story_line[story_id]['flickr_id']):\n",
    "                img_file = os.path.join(\"/home/lijiacheng/vist/images/\",mode,\"{}.jpg\".format(img_id))\n",
    "                try:\n",
    "                    img = Image.open(img_file)\n",
    "                except:\n",
    "                    print(\"image %s not found\" % img_id)\n",
    "                    continue\n",
    "                plt.subplot(1, 5, 1+j)\n",
    "                plt.imshow(img) \n",
    "                plt.axis('off')\n",
    "            plt.show()\n",
    "\n",
    "            print('story_id:', story_id)\n",
    "            #print(story_line[story_id]['origin_text'])\n",
    "            print('origin:')\n",
    "            print(origin_words)\n",
    "            print('-' * 110)\n",
    "            print('intersection')\n",
    "            inter = detected_words & origin_words\n",
    "            print(inter, len(inter))\n",
    "            print('remainder')\n",
    "            diff = detected_words - inter\n",
    "            print(diff, len(diff))\n",
    "            #print([id2words[str(idx-2048)].encode('utf-8')for idx in id2semanset[story_id]])\n",
    "\n",
    "test_semantic_result(id2words, total_story_line, id2semanlst_file, id2semanset_file)"
   ]
  },
  {
   "cell_type": "code",
   "execution_count": null,
   "metadata": {},
   "outputs": [],
   "source": []
  }
 ],
 "metadata": {
  "kernelspec": {
   "display_name": "Python 2",
   "language": "python",
   "name": "python2"
  },
  "language_info": {
   "codemirror_mode": {
    "name": "ipython",
    "version": 2
   },
   "file_extension": ".py",
   "mimetype": "text/x-python",
   "name": "python",
   "nbconvert_exporter": "python",
   "pygments_lexer": "ipython2",
   "version": "2.7.15"
  }
 },
 "nbformat": 4,
 "nbformat_minor": 1
}
